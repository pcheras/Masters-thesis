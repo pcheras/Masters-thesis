{
 "cells": [
  {
   "cell_type": "code",
   "execution_count": 1,
   "metadata": {},
   "outputs": [],
   "source": [
    "import numpy as np\n",
    "import pandas as pd\n",
    "import matplotlib.pyplot as plt\n",
    "import seaborn as sns\n",
    "from sklearn.gaussian_process import GaussianProcessClassifier\n",
    "import torch\n",
    "import gpytorch\n",
    "\n",
    "from utils import *\n",
    "pd.set_option('display.max_columns', None)"
   ]
  },
  {
   "cell_type": "code",
   "execution_count": 2,
   "metadata": {},
   "outputs": [],
   "source": [
    "results_list = []\n",
    "pred_list = []\n",
    "data_train_raw = pd.read_csv('data_train_full.csv')\n",
    "data_test_raw = pd.read_csv('data_test.csv')\n",
    "\n",
    "precision = True\n",
    "print_results = True"
   ]
  },
  {
   "cell_type": "code",
   "execution_count": 3,
   "metadata": {},
   "outputs": [
    {
     "name": "stderr",
     "output_type": "stream",
     "text": [
      "c:\\Users\\nick_\\Anaconda3\\envs\\thesis\\lib\\site-packages\\sklearn\\utils\\deprecation.py:87: FutureWarning: Function get_feature_names is deprecated; get_feature_names is deprecated in 1.0 and will be removed in 1.2. Please use get_feature_names_out instead.\n",
      "  warnings.warn(msg, category=FutureWarning)\n",
      "c:\\Users\\nick_\\Anaconda3\\envs\\thesis\\lib\\site-packages\\sklearn\\utils\\deprecation.py:87: FutureWarning: Function get_feature_names is deprecated; get_feature_names is deprecated in 1.0 and will be removed in 1.2. Please use get_feature_names_out instead.\n",
      "  warnings.warn(msg, category=FutureWarning)\n",
      "c:\\Users\\nick_\\Anaconda3\\envs\\thesis\\lib\\site-packages\\sklearn\\utils\\deprecation.py:87: FutureWarning: Function get_feature_names is deprecated; get_feature_names is deprecated in 1.0 and will be removed in 1.2. Please use get_feature_names_out instead.\n",
      "  warnings.warn(msg, category=FutureWarning)\n",
      "c:\\Users\\nick_\\Anaconda3\\envs\\thesis\\lib\\site-packages\\sklearn\\utils\\deprecation.py:87: FutureWarning: Function get_feature_names is deprecated; get_feature_names is deprecated in 1.0 and will be removed in 1.2. Please use get_feature_names_out instead.\n",
      "  warnings.warn(msg, category=FutureWarning)\n",
      "c:\\Users\\nick_\\Anaconda3\\envs\\thesis\\lib\\site-packages\\sklearn\\utils\\deprecation.py:87: FutureWarning: Function get_feature_names is deprecated; get_feature_names is deprecated in 1.0 and will be removed in 1.2. Please use get_feature_names_out instead.\n",
      "  warnings.warn(msg, category=FutureWarning)\n",
      "c:\\Users\\nick_\\Anaconda3\\envs\\thesis\\lib\\site-packages\\sklearn\\utils\\deprecation.py:87: FutureWarning: Function get_feature_names is deprecated; get_feature_names is deprecated in 1.0 and will be removed in 1.2. Please use get_feature_names_out instead.\n",
      "  warnings.warn(msg, category=FutureWarning)\n",
      "c:\\Users\\nick_\\Anaconda3\\envs\\thesis\\lib\\site-packages\\sklearn\\utils\\deprecation.py:87: FutureWarning: Function get_feature_names is deprecated; get_feature_names is deprecated in 1.0 and will be removed in 1.2. Please use get_feature_names_out instead.\n",
      "  warnings.warn(msg, category=FutureWarning)\n",
      "c:\\Users\\nick_\\Anaconda3\\envs\\thesis\\lib\\site-packages\\sklearn\\utils\\deprecation.py:87: FutureWarning: Function get_feature_names is deprecated; get_feature_names is deprecated in 1.0 and will be removed in 1.2. Please use get_feature_names_out instead.\n",
      "  warnings.warn(msg, category=FutureWarning)\n",
      "c:\\Users\\nick_\\Anaconda3\\envs\\thesis\\lib\\site-packages\\sklearn\\utils\\deprecation.py:87: FutureWarning: Function get_feature_names is deprecated; get_feature_names is deprecated in 1.0 and will be removed in 1.2. Please use get_feature_names_out instead.\n",
      "  warnings.warn(msg, category=FutureWarning)\n",
      "c:\\Users\\nick_\\Anaconda3\\envs\\thesis\\lib\\site-packages\\sklearn\\utils\\deprecation.py:87: FutureWarning: Function get_feature_names is deprecated; get_feature_names is deprecated in 1.0 and will be removed in 1.2. Please use get_feature_names_out instead.\n",
      "  warnings.warn(msg, category=FutureWarning)\n",
      "c:\\Users\\nick_\\Anaconda3\\envs\\thesis\\lib\\site-packages\\sklearn\\utils\\deprecation.py:87: FutureWarning: Function get_feature_names is deprecated; get_feature_names is deprecated in 1.0 and will be removed in 1.2. Please use get_feature_names_out instead.\n",
      "  warnings.warn(msg, category=FutureWarning)\n",
      "c:\\Users\\nick_\\Anaconda3\\envs\\thesis\\lib\\site-packages\\sklearn\\utils\\deprecation.py:87: FutureWarning: Function get_feature_names is deprecated; get_feature_names is deprecated in 1.0 and will be removed in 1.2. Please use get_feature_names_out instead.\n",
      "  warnings.warn(msg, category=FutureWarning)\n"
     ]
    }
   ],
   "source": [
    "# Preprocessing\n",
    "y_train_cat = data_train_raw['category'].to_numpy()\n",
    "y_test_cat = data_test_raw['category'].to_numpy()\n",
    "le = LabelEncoder()\n",
    "le.fit(y_train_cat)\n",
    "y_train = le.transform(y_train_cat)\n",
    "y_test = le.transform(y_test_cat)\n",
    "X_train = encode(data_train_raw.drop(columns=['ID', 'slope', 'r2', 'category']))\n",
    "X_test_raw = encode(data_test_raw.drop(columns=['ID', 'slope', 'r2', 'category']))\n",
    "col_list = list(X_train.columns.values)\n",
    "X_test = X_test_raw.reindex(columns=col_list).fillna(0)\n",
    "X_test = X_test[col_list]\n",
    "data_train_list, data_val_list = [], []\n",
    "\n",
    "for i in range(5):\n",
    "    train_raw = pd.read_csv('data_cv_train_' + str(i+1) + '.csv')\n",
    "    val_raw = pd.read_csv('data_cv_val_' + str(i+1) + '.csv')\n",
    "    y_train_cat = train_raw['category'].to_numpy()\n",
    "    y_val_cat = val_raw['category'].to_numpy()\n",
    "    y_train = le.transform(y_train_cat)\n",
    "    y_val = le.transform(y_val_cat)\n",
    "    X_train = encode(train_raw.drop(columns=['ID', 'slope', 'r2', 'category'])).reindex(columns=col_list).fillna(0)\n",
    "    X_val = encode(val_raw.drop(columns=['ID', 'slope', 'r2', 'category'])).reindex(columns=col_list).fillna(0)\n",
    "    X_train = X_train[col_list]\n",
    "    X_val = X_val[col_list]\n",
    "    data_train_list.append((X_train, y_train))\n",
    "    data_val_list.append((X_val, y_val))\n",
    "    \n",
    "# Training and testing\n",
    "class_dict = {0: 'Fast', 1: 'Other', 2: 'Slow'}\n",
    "class_names = list(le.inverse_transform([0, 1, 2]))"
   ]
  },
  {
   "cell_type": "code",
   "execution_count": 4,
   "metadata": {},
   "outputs": [
    {
     "name": "stdout",
     "output_type": "stream",
     "text": [
      "              precision    recall  f1-score   support\n",
      "\n",
      "           0       0.38      0.06      0.11        48\n",
      "           1       0.36      0.10      0.16        40\n",
      "           2       0.38      0.83      0.52        58\n",
      "\n",
      "    accuracy                           0.38       146\n",
      "   macro avg       0.37      0.33      0.26       146\n",
      "weighted avg       0.37      0.38      0.28       146\n",
      "\n",
      "Normalized confusion matrix:\n",
      "[[ 3  1 44]\n",
      " [ 1  4 35]\n",
      " [ 4  6 48]]\n"
     ]
    },
    {
     "name": "stderr",
     "output_type": "stream",
     "text": [
      "c:\\Users\\nick_\\Anaconda3\\envs\\thesis\\lib\\site-packages\\sklearn\\utils\\deprecation.py:87: FutureWarning: Function plot_confusion_matrix is deprecated; Function `plot_confusion_matrix` is deprecated in 1.0 and will be removed in 1.2. Use one of the class methods: ConfusionMatrixDisplay.from_predictions or ConfusionMatrixDisplay.from_estimator.\n",
      "  warnings.warn(msg, category=FutureWarning)\n"
     ]
    },
    {
     "data": {
      "image/png": "[encoded data removed]",
      "text/plain": [
       "<Figure size 720x576 with 2 Axes>"
      ]
     },
     "metadata": {
      "needs_background": "light"
     },
     "output_type": "display_data"
    }
   ],
   "source": [
    "# Gaussian Process\n",
    "model = GaussianProcessClassifier(random_state=1, n_jobs=-1)\n",
    "acc, y_pred = train_and_test(model, X_train, y_train, X_test, y_test, precision=precision)\n",
    "results_list.append(acc)\n",
    "pred_list.append((y_pred, y_test))\n",
    "\n",
    "if print_results:\n",
    "    print_metrics(model, X_train, y_train, y_pred, X_test, y_test, class_names=class_names)"
   ]
  },
  {
   "cell_type": "code",
   "execution_count": null,
   "metadata": {},
   "outputs": [],
   "source": []
  },
  {
   "cell_type": "code",
   "execution_count": null,
   "metadata": {},
   "outputs": [],
   "source": []
  },
  {
   "cell_type": "markdown",
   "metadata": {},
   "source": [
    "## Playing around with `GPytorch`"
   ]
  },
  {
   "cell_type": "code",
   "execution_count": 20,
   "metadata": {},
   "outputs": [],
   "source": [
    "train_x = torch.from_numpy(X_train.to_numpy().astype(np.float32))\n",
    "train_y = torch.from_numpy(y_train)"
   ]
  },
  {
   "cell_type": "code",
   "execution_count": 29,
   "metadata": {},
   "outputs": [
    {
     "data": {
      "text/plain": [
       "torch.Size([460, 29])"
      ]
     },
     "execution_count": 29,
     "metadata": {},
     "output_type": "execute_result"
    }
   ],
   "source": [
    "train_x.shape"
   ]
  },
  {
   "cell_type": "code",
   "execution_count": 32,
   "metadata": {},
   "outputs": [],
   "source": [
    "from gpytorch.models import AbstractVariationalGP\n",
    "from gpytorch.variational import CholeskyVariationalDistribution\n",
    "from gpytorch.variational import VariationalStrategy\n",
    "from gpytorch.mlls.variational_elbo import VariationalELBO\n",
    "\n",
    "\n",
    "class GPClassificationModel(AbstractVariationalGP):\n",
    "    \n",
    "    def __init__(self, train_x):\n",
    "        variational_distribution = CholeskyVariationalDistribution(train_x.size(0))\n",
    "        variational_strategy = VariationalStrategy(self, train_x, variational_distribution)\n",
    "        super(GPClassificationModel, self).__init__(variational_strategy)\n",
    "        self.mean_module = gpytorch.means.ConstantMean()\n",
    "        self.covar_module = gpytorch.kernels.ScaleKernel(gpytorch.kernels.RBFKernel())\n",
    "\n",
    "    def forward(self, x):\n",
    "        mean_x = self.mean_module(x)\n",
    "        covar_x = self.covar_module(x)\n",
    "        latent_pred = gpytorch.distributions.MultivariateNormal(mean_x, covar_x)\n",
    "        return latent_pred\n",
    "\n",
    "\n",
    "# Initialize model and likelihood\n",
    "model = GPClassificationModel(train_x)\n",
    "likelihood = gpytorch.likelihoods.SoftmaxLikelihood(num_classes=3, mixing_weights=False, num_features=3)"
   ]
  },
  {
   "cell_type": "code",
   "execution_count": 33,
   "metadata": {},
   "outputs": [
    {
     "name": "stdout",
     "output_type": "stream",
     "text": [
      "MultivariateNormal(loc: torch.Size([460]))\n"
     ]
    },
    {
     "ename": "RuntimeError",
     "evalue": "There should be 3 features",
     "output_type": "error",
     "traceback": [
      "\u001b[1;31m---------------------------------------------------------------------------\u001b[0m",
      "\u001b[1;31mRuntimeError\u001b[0m                              Traceback (most recent call last)",
      "\u001b[1;32mc:\\Users\\nick_\\OneDrive\\Desktop\\Thesis code\\my_work\\progression_classification\\classification_model.ipynb Cell 8'\u001b[0m in \u001b[0;36m<cell line: 13>\u001b[1;34m()\u001b[0m\n\u001b[0;32m     <a href='vscode-notebook-cell:/c%3A/Users/nick_/OneDrive/Desktop/Thesis%20code/my_work/progression_classification/classification_model.ipynb#ch0000007?line=17'>18</a>\u001b[0m \u001b[39mprint\u001b[39m(output)\n\u001b[0;32m     <a href='vscode-notebook-cell:/c%3A/Users/nick_/OneDrive/Desktop/Thesis%20code/my_work/progression_classification/classification_model.ipynb#ch0000007?line=18'>19</a>\u001b[0m \u001b[39m# Calc loss and backprop gradients\u001b[39;00m\n\u001b[1;32m---> <a href='vscode-notebook-cell:/c%3A/Users/nick_/OneDrive/Desktop/Thesis%20code/my_work/progression_classification/classification_model.ipynb#ch0000007?line=19'>20</a>\u001b[0m loss \u001b[39m=\u001b[39m \u001b[39m-\u001b[39mmll(output, train_y)\n\u001b[0;32m     <a href='vscode-notebook-cell:/c%3A/Users/nick_/OneDrive/Desktop/Thesis%20code/my_work/progression_classification/classification_model.ipynb#ch0000007?line=20'>21</a>\u001b[0m loss\u001b[39m.\u001b[39mbackward()\n\u001b[0;32m     <a href='vscode-notebook-cell:/c%3A/Users/nick_/OneDrive/Desktop/Thesis%20code/my_work/progression_classification/classification_model.ipynb#ch0000007?line=21'>22</a>\u001b[0m \u001b[39mprint\u001b[39m(\u001b[39m'\u001b[39m\u001b[39mIter \u001b[39m\u001b[39m%d\u001b[39;00m\u001b[39m/\u001b[39m\u001b[39m%d\u001b[39;00m\u001b[39m - Loss: \u001b[39m\u001b[39m%.3f\u001b[39;00m\u001b[39m'\u001b[39m \u001b[39m%\u001b[39m (i \u001b[39m+\u001b[39m \u001b[39m1\u001b[39m, training_iter, loss\u001b[39m.\u001b[39mitem()))\n",
      "File \u001b[1;32mc:\\Users\\nick_\\Anaconda3\\envs\\thesis\\lib\\site-packages\\gpytorch\\module.py:30\u001b[0m, in \u001b[0;36mModule.__call__\u001b[1;34m(self, *inputs, **kwargs)\u001b[0m\n\u001b[0;32m     <a href='file:///c%3A/Users/nick_/Anaconda3/envs/thesis/lib/site-packages/gpytorch/module.py?line=28'>29</a>\u001b[0m \u001b[39mdef\u001b[39;00m \u001b[39m__call__\u001b[39m(\u001b[39mself\u001b[39m, \u001b[39m*\u001b[39minputs, \u001b[39m*\u001b[39m\u001b[39m*\u001b[39mkwargs):\n\u001b[1;32m---> <a href='file:///c%3A/Users/nick_/Anaconda3/envs/thesis/lib/site-packages/gpytorch/module.py?line=29'>30</a>\u001b[0m     outputs \u001b[39m=\u001b[39m \u001b[39mself\u001b[39;49m\u001b[39m.\u001b[39;49mforward(\u001b[39m*\u001b[39;49minputs, \u001b[39m*\u001b[39;49m\u001b[39m*\u001b[39;49mkwargs)\n\u001b[0;32m     <a href='file:///c%3A/Users/nick_/Anaconda3/envs/thesis/lib/site-packages/gpytorch/module.py?line=30'>31</a>\u001b[0m     \u001b[39mif\u001b[39;00m \u001b[39misinstance\u001b[39m(outputs, \u001b[39mlist\u001b[39m):\n\u001b[0;32m     <a href='file:///c%3A/Users/nick_/Anaconda3/envs/thesis/lib/site-packages/gpytorch/module.py?line=31'>32</a>\u001b[0m         \u001b[39mreturn\u001b[39;00m [_validate_module_outputs(output) \u001b[39mfor\u001b[39;00m output \u001b[39min\u001b[39;00m outputs]\n",
      "File \u001b[1;32mc:\\Users\\nick_\\Anaconda3\\envs\\thesis\\lib\\site-packages\\gpytorch\\mlls\\variational_elbo.py:77\u001b[0m, in \u001b[0;36mVariationalELBO.forward\u001b[1;34m(self, variational_dist_f, target, **kwargs)\u001b[0m\n\u001b[0;32m     <a href='file:///c%3A/Users/nick_/Anaconda3/envs/thesis/lib/site-packages/gpytorch/mlls/variational_elbo.py?line=62'>63</a>\u001b[0m \u001b[39mdef\u001b[39;00m \u001b[39mforward\u001b[39m(\u001b[39mself\u001b[39m, variational_dist_f, target, \u001b[39m*\u001b[39m\u001b[39m*\u001b[39mkwargs):\n\u001b[0;32m     <a href='file:///c%3A/Users/nick_/Anaconda3/envs/thesis/lib/site-packages/gpytorch/mlls/variational_elbo.py?line=63'>64</a>\u001b[0m     \u001b[39mr\u001b[39m\u001b[39m\"\"\"\u001b[39;00m\n\u001b[0;32m     <a href='file:///c%3A/Users/nick_/Anaconda3/envs/thesis/lib/site-packages/gpytorch/mlls/variational_elbo.py?line=64'>65</a>\u001b[0m \u001b[39m    Computes the Variational ELBO given :math:`q(\\mathbf f)` and :math:`\\mathbf y`.\u001b[39;00m\n\u001b[0;32m     <a href='file:///c%3A/Users/nick_/Anaconda3/envs/thesis/lib/site-packages/gpytorch/mlls/variational_elbo.py?line=65'>66</a>\u001b[0m \u001b[39m    Calling this function will call the likelihood's :meth:`~gpytorch.likelihoods.Likelihood.expected_log_prob`\u001b[39;00m\n\u001b[1;32m   (...)\u001b[0m\n\u001b[0;32m     <a href='file:///c%3A/Users/nick_/Anaconda3/envs/thesis/lib/site-packages/gpytorch/mlls/variational_elbo.py?line=74'>75</a>\u001b[0m \u001b[39m    :return: Variational ELBO. Output shape corresponds to batch shape of the model/input data.\u001b[39;00m\n\u001b[0;32m     <a href='file:///c%3A/Users/nick_/Anaconda3/envs/thesis/lib/site-packages/gpytorch/mlls/variational_elbo.py?line=75'>76</a>\u001b[0m \u001b[39m    \"\"\"\u001b[39;00m\n\u001b[1;32m---> <a href='file:///c%3A/Users/nick_/Anaconda3/envs/thesis/lib/site-packages/gpytorch/mlls/variational_elbo.py?line=76'>77</a>\u001b[0m     \u001b[39mreturn\u001b[39;00m \u001b[39msuper\u001b[39;49m()\u001b[39m.\u001b[39;49mforward(variational_dist_f, target, \u001b[39m*\u001b[39;49m\u001b[39m*\u001b[39;49mkwargs)\n",
      "File \u001b[1;32mc:\\Users\\nick_\\Anaconda3\\envs\\thesis\\lib\\site-packages\\gpytorch\\mlls\\_approximate_mll.py:57\u001b[0m, in \u001b[0;36m_ApproximateMarginalLogLikelihood.forward\u001b[1;34m(self, approximate_dist_f, target, **kwargs)\u001b[0m\n\u001b[0;32m     <a href='file:///c%3A/Users/nick_/Anaconda3/envs/thesis/lib/site-packages/gpytorch/mlls/_approximate_mll.py?line=54'>55</a>\u001b[0m \u001b[39m# Get likelihood term and KL term\u001b[39;00m\n\u001b[0;32m     <a href='file:///c%3A/Users/nick_/Anaconda3/envs/thesis/lib/site-packages/gpytorch/mlls/_approximate_mll.py?line=55'>56</a>\u001b[0m num_batch \u001b[39m=\u001b[39m approximate_dist_f\u001b[39m.\u001b[39mevent_shape[\u001b[39m0\u001b[39m]\n\u001b[1;32m---> <a href='file:///c%3A/Users/nick_/Anaconda3/envs/thesis/lib/site-packages/gpytorch/mlls/_approximate_mll.py?line=56'>57</a>\u001b[0m log_likelihood \u001b[39m=\u001b[39m \u001b[39mself\u001b[39;49m\u001b[39m.\u001b[39;49m_log_likelihood_term(approximate_dist_f, target, \u001b[39m*\u001b[39;49m\u001b[39m*\u001b[39;49mkwargs)\u001b[39m.\u001b[39mdiv(num_batch)\n\u001b[0;32m     <a href='file:///c%3A/Users/nick_/Anaconda3/envs/thesis/lib/site-packages/gpytorch/mlls/_approximate_mll.py?line=57'>58</a>\u001b[0m kl_divergence \u001b[39m=\u001b[39m \u001b[39mself\u001b[39m\u001b[39m.\u001b[39mmodel\u001b[39m.\u001b[39mvariational_strategy\u001b[39m.\u001b[39mkl_divergence()\u001b[39m.\u001b[39mdiv(\u001b[39mself\u001b[39m\u001b[39m.\u001b[39mnum_data \u001b[39m/\u001b[39m \u001b[39mself\u001b[39m\u001b[39m.\u001b[39mbeta)\n\u001b[0;32m     <a href='file:///c%3A/Users/nick_/Anaconda3/envs/thesis/lib/site-packages/gpytorch/mlls/_approximate_mll.py?line=59'>60</a>\u001b[0m \u001b[39m# Add any additional registered loss terms\u001b[39;00m\n",
      "File \u001b[1;32mc:\\Users\\nick_\\Anaconda3\\envs\\thesis\\lib\\site-packages\\gpytorch\\mlls\\variational_elbo.py:61\u001b[0m, in \u001b[0;36mVariationalELBO._log_likelihood_term\u001b[1;34m(self, variational_dist_f, target, **kwargs)\u001b[0m\n\u001b[0;32m     <a href='file:///c%3A/Users/nick_/Anaconda3/envs/thesis/lib/site-packages/gpytorch/mlls/variational_elbo.py?line=59'>60</a>\u001b[0m \u001b[39mdef\u001b[39;00m \u001b[39m_log_likelihood_term\u001b[39m(\u001b[39mself\u001b[39m, variational_dist_f, target, \u001b[39m*\u001b[39m\u001b[39m*\u001b[39mkwargs):\n\u001b[1;32m---> <a href='file:///c%3A/Users/nick_/Anaconda3/envs/thesis/lib/site-packages/gpytorch/mlls/variational_elbo.py?line=60'>61</a>\u001b[0m     \u001b[39mreturn\u001b[39;00m \u001b[39mself\u001b[39;49m\u001b[39m.\u001b[39;49mlikelihood\u001b[39m.\u001b[39;49mexpected_log_prob(target, variational_dist_f, \u001b[39m*\u001b[39;49m\u001b[39m*\u001b[39;49mkwargs)\u001b[39m.\u001b[39msum(\u001b[39m-\u001b[39m\u001b[39m1\u001b[39m)\n",
      "File \u001b[1;32mc:\\Users\\nick_\\Anaconda3\\envs\\thesis\\lib\\site-packages\\gpytorch\\likelihoods\\likelihood.py:179\u001b[0m, in \u001b[0;36mLikelihood.expected_log_prob\u001b[1;34m(self, observations, function_dist, *args, **kwargs)\u001b[0m\n\u001b[0;32m    <a href='file:///c%3A/Users/nick_/Anaconda3/envs/thesis/lib/site-packages/gpytorch/likelihoods/likelihood.py?line=162'>163</a>\u001b[0m \u001b[39mdef\u001b[39;00m \u001b[39mexpected_log_prob\u001b[39m(\u001b[39mself\u001b[39m, observations, function_dist, \u001b[39m*\u001b[39margs, \u001b[39m*\u001b[39m\u001b[39m*\u001b[39mkwargs):\n\u001b[0;32m    <a href='file:///c%3A/Users/nick_/Anaconda3/envs/thesis/lib/site-packages/gpytorch/likelihoods/likelihood.py?line=163'>164</a>\u001b[0m     \u001b[39mr\u001b[39m\u001b[39m\"\"\"\u001b[39;00m\n\u001b[0;32m    <a href='file:///c%3A/Users/nick_/Anaconda3/envs/thesis/lib/site-packages/gpytorch/likelihoods/likelihood.py?line=164'>165</a>\u001b[0m \u001b[39m    (Used by :obj:`~gpytorch.mlls.VariationalELBO` for variational inference.)\u001b[39;00m\n\u001b[0;32m    <a href='file:///c%3A/Users/nick_/Anaconda3/envs/thesis/lib/site-packages/gpytorch/likelihoods/likelihood.py?line=165'>166</a>\u001b[0m \n\u001b[1;32m   (...)\u001b[0m\n\u001b[0;32m    <a href='file:///c%3A/Users/nick_/Anaconda3/envs/thesis/lib/site-packages/gpytorch/likelihoods/likelihood.py?line=176'>177</a>\u001b[0m \u001b[39m    :rtype: torch.Tensor\u001b[39;00m\n\u001b[0;32m    <a href='file:///c%3A/Users/nick_/Anaconda3/envs/thesis/lib/site-packages/gpytorch/likelihoods/likelihood.py?line=177'>178</a>\u001b[0m \u001b[39m    \"\"\"\u001b[39;00m\n\u001b[1;32m--> <a href='file:///c%3A/Users/nick_/Anaconda3/envs/thesis/lib/site-packages/gpytorch/likelihoods/likelihood.py?line=178'>179</a>\u001b[0m     \u001b[39mreturn\u001b[39;00m \u001b[39msuper\u001b[39;49m()\u001b[39m.\u001b[39;49mexpected_log_prob(observations, function_dist, \u001b[39m*\u001b[39;49margs, \u001b[39m*\u001b[39;49m\u001b[39m*\u001b[39;49mkwargs)\n",
      "File \u001b[1;32mc:\\Users\\nick_\\Anaconda3\\envs\\thesis\\lib\\site-packages\\gpytorch\\likelihoods\\likelihood.py:38\u001b[0m, in \u001b[0;36m_Likelihood.expected_log_prob\u001b[1;34m(self, observations, function_dist, *args, **kwargs)\u001b[0m\n\u001b[0;32m     <a href='file:///c%3A/Users/nick_/Anaconda3/envs/thesis/lib/site-packages/gpytorch/likelihoods/likelihood.py?line=36'>37</a>\u001b[0m \u001b[39mdef\u001b[39;00m \u001b[39mexpected_log_prob\u001b[39m(\u001b[39mself\u001b[39m, observations, function_dist, \u001b[39m*\u001b[39margs, \u001b[39m*\u001b[39m\u001b[39m*\u001b[39mkwargs):\n\u001b[1;32m---> <a href='file:///c%3A/Users/nick_/Anaconda3/envs/thesis/lib/site-packages/gpytorch/likelihoods/likelihood.py?line=37'>38</a>\u001b[0m     likelihood_samples \u001b[39m=\u001b[39m \u001b[39mself\u001b[39;49m\u001b[39m.\u001b[39;49m_draw_likelihood_samples(function_dist, \u001b[39m*\u001b[39;49margs, \u001b[39m*\u001b[39;49m\u001b[39m*\u001b[39;49mkwargs)\n\u001b[0;32m     <a href='file:///c%3A/Users/nick_/Anaconda3/envs/thesis/lib/site-packages/gpytorch/likelihoods/likelihood.py?line=38'>39</a>\u001b[0m     res \u001b[39m=\u001b[39m likelihood_samples\u001b[39m.\u001b[39mlog_prob(observations)\u001b[39m.\u001b[39mmean(dim\u001b[39m=\u001b[39m\u001b[39m0\u001b[39m)\n\u001b[0;32m     <a href='file:///c%3A/Users/nick_/Anaconda3/envs/thesis/lib/site-packages/gpytorch/likelihoods/likelihood.py?line=39'>40</a>\u001b[0m     \u001b[39mreturn\u001b[39;00m res\n",
      "File \u001b[1;32mc:\\Users\\nick_\\Anaconda3\\envs\\thesis\\lib\\site-packages\\gpytorch\\likelihoods\\likelihood.py:161\u001b[0m, in \u001b[0;36mLikelihood._draw_likelihood_samples\u001b[1;34m(self, function_dist, sample_shape, *args, **kwargs)\u001b[0m\n\u001b[0;32m    <a href='file:///c%3A/Users/nick_/Anaconda3/envs/thesis/lib/site-packages/gpytorch/likelihoods/likelihood.py?line=158'>159</a>\u001b[0m \u001b[39mif\u001b[39;00m \u001b[39mnot\u001b[39;00m \u001b[39mself\u001b[39m\u001b[39m.\u001b[39mtraining:\n\u001b[0;32m    <a href='file:///c%3A/Users/nick_/Anaconda3/envs/thesis/lib/site-packages/gpytorch/likelihoods/likelihood.py?line=159'>160</a>\u001b[0m     function_samples \u001b[39m=\u001b[39m function_samples\u001b[39m.\u001b[39msqueeze(\u001b[39m-\u001b[39m\u001b[39mlen\u001b[39m(function_dist\u001b[39m.\u001b[39mevent_shape) \u001b[39m-\u001b[39m \u001b[39m1\u001b[39m)\n\u001b[1;32m--> <a href='file:///c%3A/Users/nick_/Anaconda3/envs/thesis/lib/site-packages/gpytorch/likelihoods/likelihood.py?line=160'>161</a>\u001b[0m \u001b[39mreturn\u001b[39;00m \u001b[39mself\u001b[39;49m\u001b[39m.\u001b[39;49mforward(function_samples, \u001b[39m*\u001b[39;49margs, \u001b[39m*\u001b[39;49m\u001b[39m*\u001b[39;49mkwargs)\n",
      "File \u001b[1;32mc:\\Users\\nick_\\Anaconda3\\envs\\thesis\\lib\\site-packages\\gpytorch\\likelihoods\\softmax_likelihood.py:61\u001b[0m, in \u001b[0;36mSoftmaxLikelihood.forward\u001b[1;34m(self, function_samples, *params, **kwargs)\u001b[0m\n\u001b[0;32m     <a href='file:///c%3A/Users/nick_/Anaconda3/envs/thesis/lib/site-packages/gpytorch/likelihoods/softmax_likelihood.py?line=57'>58</a>\u001b[0m     num_data, num_features \u001b[39m=\u001b[39m function_samples\u001b[39m.\u001b[39mshape[\u001b[39m-\u001b[39m\u001b[39m2\u001b[39m:]\n\u001b[0;32m     <a href='file:///c%3A/Users/nick_/Anaconda3/envs/thesis/lib/site-packages/gpytorch/likelihoods/softmax_likelihood.py?line=59'>60</a>\u001b[0m \u001b[39mif\u001b[39;00m num_features \u001b[39m!=\u001b[39m \u001b[39mself\u001b[39m\u001b[39m.\u001b[39mnum_features:\n\u001b[1;32m---> <a href='file:///c%3A/Users/nick_/Anaconda3/envs/thesis/lib/site-packages/gpytorch/likelihoods/softmax_likelihood.py?line=60'>61</a>\u001b[0m     \u001b[39mraise\u001b[39;00m \u001b[39mRuntimeError\u001b[39;00m(\u001b[39m\"\u001b[39m\u001b[39mThere should be \u001b[39m\u001b[39m%d\u001b[39;00m\u001b[39m features\u001b[39m\u001b[39m\"\u001b[39m \u001b[39m%\u001b[39m \u001b[39mself\u001b[39m\u001b[39m.\u001b[39mnum_features)\n\u001b[0;32m     <a href='file:///c%3A/Users/nick_/Anaconda3/envs/thesis/lib/site-packages/gpytorch/likelihoods/softmax_likelihood.py?line=62'>63</a>\u001b[0m \u001b[39mif\u001b[39;00m \u001b[39mself\u001b[39m\u001b[39m.\u001b[39mmixing_weights \u001b[39mis\u001b[39;00m \u001b[39mnot\u001b[39;00m \u001b[39mNone\u001b[39;00m:\n\u001b[0;32m     <a href='file:///c%3A/Users/nick_/Anaconda3/envs/thesis/lib/site-packages/gpytorch/likelihoods/softmax_likelihood.py?line=63'>64</a>\u001b[0m     mixed_fs \u001b[39m=\u001b[39m function_samples \u001b[39m@\u001b[39m \u001b[39mself\u001b[39m\u001b[39m.\u001b[39mmixing_weights\u001b[39m.\u001b[39mt()  \u001b[39m# num_classes x num_data\u001b[39;00m\n",
      "\u001b[1;31mRuntimeError\u001b[0m: There should be 3 features"
     ]
    }
   ],
   "source": [
    "# Find optimal model hyperparameters\n",
    "model.train()\n",
    "likelihood.train()\n",
    "\n",
    "# Use the adam optimizer\n",
    "optimizer = torch.optim.Adam(model.parameters(), lr=0.1)\n",
    "\n",
    "# \"Loss\" for GPs - the marginal log likelihood\n",
    "# num_data refers to the amount of training data\n",
    "mll = VariationalELBO(likelihood, model, train_y.numel())\n",
    "\n",
    "training_iter = 5\n",
    "for i in range(training_iter):\n",
    "    # Zero backpropped gradients from previous iteration\n",
    "    optimizer.zero_grad()\n",
    "    # Get predictive output\n",
    "    output = model(train_x)\n",
    "    print(output)\n",
    "    # Calc loss and backprop gradients\n",
    "    loss = -mll(output, train_y)\n",
    "    loss.backward()\n",
    "    print('Iter %d/%d - Loss: %.3f' % (i + 1, training_iter, loss.item()))\n",
    "    optimizer.step()\n"
   ]
  },
  {
   "cell_type": "code",
   "execution_count": null,
   "metadata": {},
   "outputs": [],
   "source": []
  }
 ],
 "metadata": {
  "interpreter": {
   "hash": "dc1a1fe9425be4de01979652791da0a8b93aa88df29b2975e2e67ada710aecb7"
  },
  "kernelspec": {
   "display_name": "Python 3.8.5 ('thesis')",
   "language": "python",
   "name": "python3"
  },
  "language_info": {
   "codemirror_mode": {
    "name": "ipython",
    "version": 3
   },
   "file_extension": ".py",
   "mimetype": "text/x-python",
   "name": "python",
   "nbconvert_exporter": "python",
   "pygments_lexer": "ipython3",
   "version": "3.8.5"
  },
  "orig_nbformat": 4
 },
 "nbformat": 4,
 "nbformat_minor": 2
}
