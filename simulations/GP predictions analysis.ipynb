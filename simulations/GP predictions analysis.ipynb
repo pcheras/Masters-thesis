{
 "cells": [
  {
   "cell_type": "code",
   "execution_count": 1,
   "metadata": {},
   "outputs": [],
   "source": [
    "from simulation_utils import * \n",
    "import matplotlib.pyplot as plt\n",
    "import seaborn as sns\n",
    "import statsmodels.api as sm\n",
    "import statsmodels.formula.api as smf\n",
    "import gpboost as gpb\n",
    "import pdpbox\n",
    "from pdpbox import pdp\n",
    "sns.set()"
   ]
  },
  {
   "cell_type": "markdown",
   "metadata": {},
   "source": [
    "### Small data setting: Linear function with shared GP"
   ]
  },
  {
   "cell_type": "code",
   "execution_count": 2,
   "metadata": {},
   "outputs": [],
   "source": [
    "# Generate data\n",
    "n, m = 500, 50  # Number of observations and groups\n",
    "p = int(n/m) # Number of observations per group\n",
    "data, X, y, F = generate_data(n, m, p, func='linear_func', random_state=60, shared_gp=True)\n",
    "\n",
    "# Create groups\n",
    "groups = np.arange(n)\n",
    "for i in range(m):\n",
    "    groups[i*p:(i+1)*p] = i\n",
    "\n",
    "# Create times for validation datasets\n",
    "times = np.tile(np.arange(p)*10+10, m)"
   ]
  },
  {
   "cell_type": "code",
   "execution_count": 3,
   "metadata": {},
   "outputs": [
    {
     "data": {
      "text/html": [
       "<div>\n",
       "<style scoped>\n",
       "    .dataframe tbody tr th:only-of-type {\n",
       "        vertical-align: middle;\n",
       "    }\n",
       "\n",
       "    .dataframe tbody tr th {\n",
       "        vertical-align: top;\n",
       "    }\n",
       "\n",
       "    .dataframe thead th {\n",
       "        text-align: right;\n",
       "    }\n",
       "</style>\n",
       "<table border=\"1\" class=\"dataframe\">\n",
       "  <thead>\n",
       "    <tr style=\"text-align: right;\">\n",
       "      <th></th>\n",
       "      <th>group</th>\n",
       "      <th>times</th>\n",
       "      <th>feature_1</th>\n",
       "      <th>feature_2</th>\n",
       "      <th>feature_3</th>\n",
       "      <th>feature_4</th>\n",
       "      <th>y</th>\n",
       "    </tr>\n",
       "  </thead>\n",
       "  <tbody>\n",
       "    <tr>\n",
       "      <th>0</th>\n",
       "      <td>0</td>\n",
       "      <td>26</td>\n",
       "      <td>0.300873</td>\n",
       "      <td>0.186946</td>\n",
       "      <td>0.323183</td>\n",
       "      <td>0.665750</td>\n",
       "      <td>2.509764</td>\n",
       "    </tr>\n",
       "    <tr>\n",
       "      <th>1</th>\n",
       "      <td>0</td>\n",
       "      <td>54</td>\n",
       "      <td>0.566971</td>\n",
       "      <td>0.398254</td>\n",
       "      <td>0.379415</td>\n",
       "      <td>0.010582</td>\n",
       "      <td>3.008419</td>\n",
       "    </tr>\n",
       "    <tr>\n",
       "      <th>2</th>\n",
       "      <td>0</td>\n",
       "      <td>172</td>\n",
       "      <td>0.170366</td>\n",
       "      <td>0.123393</td>\n",
       "      <td>0.692401</td>\n",
       "      <td>0.874442</td>\n",
       "      <td>5.743980</td>\n",
       "    </tr>\n",
       "    <tr>\n",
       "      <th>3</th>\n",
       "      <td>0</td>\n",
       "      <td>321</td>\n",
       "      <td>0.337397</td>\n",
       "      <td>0.992459</td>\n",
       "      <td>0.131540</td>\n",
       "      <td>0.500330</td>\n",
       "      <td>3.267110</td>\n",
       "    </tr>\n",
       "    <tr>\n",
       "      <th>4</th>\n",
       "      <td>0</td>\n",
       "      <td>390</td>\n",
       "      <td>0.286621</td>\n",
       "      <td>0.220585</td>\n",
       "      <td>0.502086</td>\n",
       "      <td>0.636063</td>\n",
       "      <td>0.838914</td>\n",
       "    </tr>\n",
       "    <tr>\n",
       "      <th>...</th>\n",
       "      <td>...</td>\n",
       "      <td>...</td>\n",
       "      <td>...</td>\n",
       "      <td>...</td>\n",
       "      <td>...</td>\n",
       "      <td>...</td>\n",
       "      <td>...</td>\n",
       "    </tr>\n",
       "    <tr>\n",
       "      <th>495</th>\n",
       "      <td>49</td>\n",
       "      <td>630</td>\n",
       "      <td>0.349987</td>\n",
       "      <td>0.306533</td>\n",
       "      <td>0.985620</td>\n",
       "      <td>0.463537</td>\n",
       "      <td>1.732312</td>\n",
       "    </tr>\n",
       "    <tr>\n",
       "      <th>496</th>\n",
       "      <td>49</td>\n",
       "      <td>822</td>\n",
       "      <td>0.954944</td>\n",
       "      <td>0.681954</td>\n",
       "      <td>0.888071</td>\n",
       "      <td>0.202472</td>\n",
       "      <td>7.727281</td>\n",
       "    </tr>\n",
       "    <tr>\n",
       "      <th>497</th>\n",
       "      <td>49</td>\n",
       "      <td>831</td>\n",
       "      <td>0.217244</td>\n",
       "      <td>0.298916</td>\n",
       "      <td>0.905928</td>\n",
       "      <td>0.333855</td>\n",
       "      <td>3.910626</td>\n",
       "    </tr>\n",
       "    <tr>\n",
       "      <th>498</th>\n",
       "      <td>49</td>\n",
       "      <td>857</td>\n",
       "      <td>0.679392</td>\n",
       "      <td>0.080743</td>\n",
       "      <td>0.509631</td>\n",
       "      <td>0.417974</td>\n",
       "      <td>4.359974</td>\n",
       "    </tr>\n",
       "    <tr>\n",
       "      <th>499</th>\n",
       "      <td>49</td>\n",
       "      <td>892</td>\n",
       "      <td>0.072292</td>\n",
       "      <td>0.417256</td>\n",
       "      <td>0.084224</td>\n",
       "      <td>0.409253</td>\n",
       "      <td>0.746037</td>\n",
       "    </tr>\n",
       "  </tbody>\n",
       "</table>\n",
       "<p>500 rows × 7 columns</p>\n",
       "</div>"
      ],
      "text/plain": [
       "     group  times  feature_1  feature_2  feature_3  feature_4         y\n",
       "0        0     26   0.300873   0.186946   0.323183   0.665750  2.509764\n",
       "1        0     54   0.566971   0.398254   0.379415   0.010582  3.008419\n",
       "2        0    172   0.170366   0.123393   0.692401   0.874442  5.743980\n",
       "3        0    321   0.337397   0.992459   0.131540   0.500330  3.267110\n",
       "4        0    390   0.286621   0.220585   0.502086   0.636063  0.838914\n",
       "..     ...    ...        ...        ...        ...        ...       ...\n",
       "495     49    630   0.349987   0.306533   0.985620   0.463537  1.732312\n",
       "496     49    822   0.954944   0.681954   0.888071   0.202472  7.727281\n",
       "497     49    831   0.217244   0.298916   0.905928   0.333855  3.910626\n",
       "498     49    857   0.679392   0.080743   0.509631   0.417974  4.359974\n",
       "499     49    892   0.072292   0.417256   0.084224   0.409253  0.746037\n",
       "\n",
       "[500 rows x 7 columns]"
      ]
     },
     "execution_count": 3,
     "metadata": {},
     "output_type": "execute_result"
    }
   ],
   "source": [
    "data"
   ]
  },
  {
   "cell_type": "code",
   "execution_count": 4,
   "metadata": {},
   "outputs": [],
   "source": [
    "group_sizes = X.groupby(['group']).size().to_numpy()\n",
    "X_train, X_test, y_train, y_test, F_train, F_test = train_test_split_grouped_interpolation(X, y, F, group_sizes, test_size=0.2, random_state=1)"
   ]
  },
  {
   "cell_type": "code",
   "execution_count": 5,
   "metadata": {},
   "outputs": [
    {
     "data": {
      "text/html": [
       "<div>\n",
       "<style scoped>\n",
       "    .dataframe tbody tr th:only-of-type {\n",
       "        vertical-align: middle;\n",
       "    }\n",
       "\n",
       "    .dataframe tbody tr th {\n",
       "        vertical-align: top;\n",
       "    }\n",
       "\n",
       "    .dataframe thead th {\n",
       "        text-align: right;\n",
       "    }\n",
       "</style>\n",
       "<table border=\"1\" class=\"dataframe\">\n",
       "  <thead>\n",
       "    <tr style=\"text-align: right;\">\n",
       "      <th></th>\n",
       "      <th>group</th>\n",
       "      <th>times</th>\n",
       "      <th>feature_1</th>\n",
       "      <th>feature_2</th>\n",
       "      <th>feature_3</th>\n",
       "      <th>feature_4</th>\n",
       "    </tr>\n",
       "  </thead>\n",
       "  <tbody>\n",
       "    <tr>\n",
       "      <th>0</th>\n",
       "      <td>0</td>\n",
       "      <td>26</td>\n",
       "      <td>0.300873</td>\n",
       "      <td>0.186946</td>\n",
       "      <td>0.323183</td>\n",
       "      <td>0.665750</td>\n",
       "    </tr>\n",
       "    <tr>\n",
       "      <th>1</th>\n",
       "      <td>0</td>\n",
       "      <td>54</td>\n",
       "      <td>0.566971</td>\n",
       "      <td>0.398254</td>\n",
       "      <td>0.379415</td>\n",
       "      <td>0.010582</td>\n",
       "    </tr>\n",
       "    <tr>\n",
       "      <th>2</th>\n",
       "      <td>0</td>\n",
       "      <td>172</td>\n",
       "      <td>0.170366</td>\n",
       "      <td>0.123393</td>\n",
       "      <td>0.692401</td>\n",
       "      <td>0.874442</td>\n",
       "    </tr>\n",
       "    <tr>\n",
       "      <th>3</th>\n",
       "      <td>0</td>\n",
       "      <td>321</td>\n",
       "      <td>0.337397</td>\n",
       "      <td>0.992459</td>\n",
       "      <td>0.131540</td>\n",
       "      <td>0.500330</td>\n",
       "    </tr>\n",
       "    <tr>\n",
       "      <th>4</th>\n",
       "      <td>0</td>\n",
       "      <td>390</td>\n",
       "      <td>0.286621</td>\n",
       "      <td>0.220585</td>\n",
       "      <td>0.502086</td>\n",
       "      <td>0.636063</td>\n",
       "    </tr>\n",
       "    <tr>\n",
       "      <th>...</th>\n",
       "      <td>...</td>\n",
       "      <td>...</td>\n",
       "      <td>...</td>\n",
       "      <td>...</td>\n",
       "      <td>...</td>\n",
       "      <td>...</td>\n",
       "    </tr>\n",
       "    <tr>\n",
       "      <th>494</th>\n",
       "      <td>49</td>\n",
       "      <td>609</td>\n",
       "      <td>0.133895</td>\n",
       "      <td>0.255245</td>\n",
       "      <td>0.593317</td>\n",
       "      <td>0.428608</td>\n",
       "    </tr>\n",
       "    <tr>\n",
       "      <th>495</th>\n",
       "      <td>49</td>\n",
       "      <td>630</td>\n",
       "      <td>0.349987</td>\n",
       "      <td>0.306533</td>\n",
       "      <td>0.985620</td>\n",
       "      <td>0.463537</td>\n",
       "    </tr>\n",
       "    <tr>\n",
       "      <th>496</th>\n",
       "      <td>49</td>\n",
       "      <td>822</td>\n",
       "      <td>0.954944</td>\n",
       "      <td>0.681954</td>\n",
       "      <td>0.888071</td>\n",
       "      <td>0.202472</td>\n",
       "    </tr>\n",
       "    <tr>\n",
       "      <th>497</th>\n",
       "      <td>49</td>\n",
       "      <td>831</td>\n",
       "      <td>0.217244</td>\n",
       "      <td>0.298916</td>\n",
       "      <td>0.905928</td>\n",
       "      <td>0.333855</td>\n",
       "    </tr>\n",
       "    <tr>\n",
       "      <th>498</th>\n",
       "      <td>49</td>\n",
       "      <td>857</td>\n",
       "      <td>0.679392</td>\n",
       "      <td>0.080743</td>\n",
       "      <td>0.509631</td>\n",
       "      <td>0.417974</td>\n",
       "    </tr>\n",
       "  </tbody>\n",
       "</table>\n",
       "<p>400 rows × 6 columns</p>\n",
       "</div>"
      ],
      "text/plain": [
       "     group  times  feature_1  feature_2  feature_3  feature_4\n",
       "0        0     26   0.300873   0.186946   0.323183   0.665750\n",
       "1        0     54   0.566971   0.398254   0.379415   0.010582\n",
       "2        0    172   0.170366   0.123393   0.692401   0.874442\n",
       "3        0    321   0.337397   0.992459   0.131540   0.500330\n",
       "4        0    390   0.286621   0.220585   0.502086   0.636063\n",
       "..     ...    ...        ...        ...        ...        ...\n",
       "494     49    609   0.133895   0.255245   0.593317   0.428608\n",
       "495     49    630   0.349987   0.306533   0.985620   0.463537\n",
       "496     49    822   0.954944   0.681954   0.888071   0.202472\n",
       "497     49    831   0.217244   0.298916   0.905928   0.333855\n",
       "498     49    857   0.679392   0.080743   0.509631   0.417974\n",
       "\n",
       "[400 rows x 6 columns]"
      ]
     },
     "execution_count": 5,
     "metadata": {},
     "output_type": "execute_result"
    }
   ],
   "source": [
    "X_train"
   ]
  },
  {
   "cell_type": "markdown",
   "metadata": {},
   "source": [
    "## LME with Individual GP"
   ]
  },
  {
   "cell_type": "code",
   "execution_count": 6,
   "metadata": {},
   "outputs": [
    {
     "data": {
      "text/plain": [
       "<gpboost.basic.GPModel at 0x22f7cd1e700>"
      ]
     },
     "execution_count": 6,
     "metadata": {},
     "output_type": "execute_result"
    }
   ],
   "source": [
    "np.random.seed(1)\n",
    "X_train_linear = np.column_stack((np.ones(len(X_train)), X_train[['feature_1','feature_2','feature_3','feature_4']]))\n",
    "X_test1_linear = np.column_stack((np.ones(len(X_test)), X_test[['feature_1','feature_2','feature_3','feature_4']]))\n",
    "#gp_model = gpb.GPModel(group_data=X_train['group'], gp_coords=X_train['times'], cluster_ids=X_train['group'])\n",
    "#gp_model.set_optim_params(params={'optimizer_cov': 'gradient_descent', 'use_nesterov_acc': True})\n",
    "\n",
    "gp_model = gpb.GPModel(group_data=X_train['group'].values, gp_coords=X_train['times'].values, cluster_ids=X_train['group'].values, cov_function='matern', cov_fct_shape=2.5)\n",
    "gp_model.fit(y=y_train, X=X_train_linear)\n",
    "#preds = gp_model.predict(group_data_pred=X_test['group'].values, gp_coords_pred=X_test['times'].values, cluster_ids_pred=X_test['group'].values, X_pred=X_test1_linear, predict_var=True)"
   ]
  },
  {
   "cell_type": "code",
   "execution_count": 7,
   "metadata": {},
   "outputs": [
    {
     "data": {
      "text/plain": [
       "array([2, 6, 1, 1, 1, 9, 3, 7, 1, 5, 1, 6, 2, 1, 2, 1, 1, 1, 1, 1, 9, 1,\n",
       "       1, 1, 1, 1, 1, 1, 1, 2, 1, 1, 1, 1, 1, 1, 1, 8, 1, 1, 1, 1, 2, 1,\n",
       "       1, 1, 1, 1, 1, 1], dtype=int64)"
      ]
     },
     "execution_count": 7,
     "metadata": {},
     "output_type": "execute_result"
    }
   ],
   "source": [
    "X_test.groupby(['group']).size().to_numpy()"
   ]
  },
  {
   "cell_type": "code",
   "execution_count": 8,
   "metadata": {},
   "outputs": [],
   "source": [
    "specific_group = data[data['group'] == 6] # pick a group with 3 observations in the interpolation test set\n",
    "y_true = specific_group['y'].to_numpy()\n",
    "specific_test_linear = np.column_stack((np.ones(len(specific_group)), specific_group[['feature_1','feature_2','feature_3','feature_4']]))\n",
    "preds = gp_model.predict(group_data_pred=specific_group['group'].values, gp_coords_pred=specific_group['times'].values, cluster_ids_pred=specific_group['group'].values, X_pred=specific_test_linear, predict_var=True)"
   ]
  },
  {
   "cell_type": "code",
   "execution_count": 9,
   "metadata": {},
   "outputs": [
    {
     "data": {
      "image/png": "[encoded data removed]",
      "text/plain": [
       "<Figure size 576x432 with 1 Axes>"
      ]
     },
     "metadata": {},
     "output_type": "display_data"
    }
   ],
   "source": [
    "points = np.arange(specific_group['times'].iloc[-1]+10, step=10)\n",
    "p = np.tile(specific_group['group'].iloc[0], len(points))\n",
    "predictions_points = gp_model.predict(group_data_pred=p, gp_coords_pred=points, cluster_ids_pred=p, X_pred=np.zeros((len(points), specific_test_linear.shape[1])), predict_var=True)\n",
    "sigma = np.sqrt(predictions_points['var'])\n",
    "\n",
    "plt.figure(figsize=(8,6))\n",
    "plt.plot(specific_group['times'], y_true-preds['mu'], 'o', markersize=7, label='Observations')\n",
    "plt.plot(points, predictions_points['mu'], 'b-', label='Prediction')\n",
    "plt.fill_between(points, predictions_points['mu'] - 1.96 * sigma,\n",
    "                 predictions_points['mu'] + 1.96 * sigma, alpha=0.3,\n",
    "                 fc='b', label='95% confidence interval')\n",
    "plt.xlabel('$t$')\n",
    "plt.ylabel('eGFR (random effects component)')\n",
    "plt.legend(loc='upper right')\n",
    "plt.show()"
   ]
  },
  {
   "cell_type": "markdown",
   "metadata": {},
   "source": [
    "## GPBoost with Individual GP"
   ]
  },
  {
   "cell_type": "code",
   "execution_count": 10,
   "metadata": {},
   "outputs": [],
   "source": [
    "np.random.seed(1)\n",
    "data_train = gpb.Dataset(data=X_train[['feature_1','feature_2','feature_3','feature_4']], label=y_train)\n",
    "gp_model = gpb.GPModel(group_data=X_train['group'], gp_coords=X_train['times'], cluster_ids=X_train['group'])\n",
    "gp_model.set_optim_params(params={'optimizer_cov': 'gradient_descent', 'use_nesterov_acc': True})\n",
    "\n",
    "params = {'learning_rate': 0.1,\n",
    "          'max_depth': 1,\n",
    "          'min_data_in_leaf': 50,\n",
    "          'objective': 'regression_l2',\n",
    "          'verbose': 0,\n",
    "          'num_leaves': 2**10}\n",
    "\n",
    "bst = gpb.train(params=params,\n",
    "                train_set=data_train,\n",
    "                gp_model=gp_model,\n",
    "                num_boost_round=208)"
   ]
  },
  {
   "cell_type": "code",
   "execution_count": 11,
   "metadata": {},
   "outputs": [
    {
     "data": {
      "image/png": "[encoded data removed]",
      "text/plain": [
       "<Figure size 576x432 with 1 Axes>"
      ]
     },
     "metadata": {},
     "output_type": "display_data"
    }
   ],
   "source": [
    "specific_group = data[data['group'] == 6] # pick a group with 3 observations in the interpolation test set\n",
    "y_true = specific_group['y'].to_numpy()\n",
    "preds = bst.predict(data=specific_group.drop(columns=['y', 'group', 'times']), \n",
    "                          group_data_pred=specific_group['group'],\n",
    "                          gp_coords_pred=specific_group['times'],\n",
    "                          cluster_ids_pred=specific_group['group'],\n",
    "                          predict_var=True, pred_latent=True)\n",
    "\n",
    "points = np.arange(specific_group['times'].iloc[-1]+10, step=10)\n",
    "p = np.tile(specific_group['group'].iloc[0], len(points))\n",
    "predictions_points = gp_model.predict(group_data_pred=p, gp_coords_pred=points, cluster_ids_pred=p, predict_var=True)\n",
    "sigma = np.sqrt(predictions_points['var'])\n",
    "plt.figure(figsize=(8,6))\n",
    "plt.plot(specific_group['times'], y_true-preds['fixed_effect'], 'r.', markersize=10, label='Observations')\n",
    "plt.plot(points, predictions_points['mu'], 'b-', label='Prediction')\n",
    "plt.fill_between(points, predictions_points['mu'] - 1.96 * sigma,\n",
    "                 predictions_points['mu'] + 1.96 * sigma, alpha=0.3,\n",
    "                 fc='b', label='95% confidence interval')\n",
    "plt.xlabel('$t$')\n",
    "plt.ylabel('eGFR (random effects component)')\n",
    "plt.legend(loc='upper right')\n",
    "plt.show()"
   ]
  },
  {
   "cell_type": "code",
   "execution_count": 12,
   "metadata": {},
   "outputs": [
    {
     "data": {
      "text/plain": [
       "{'fixed_effect': array([5.54117262, 3.65672933, 3.90754756, 6.60761763, 4.47263926,\n",
       "        5.3540955 , 5.67759155, 6.22793031, 3.57252142, 4.33492707]),\n",
       " 'random_effect_mean': array([1.21658121, 1.21580428, 1.21593057, 1.21669122, 1.21680191,\n",
       "        1.2169703 , 1.21729203, 1.21669255, 1.21659302, 1.21647499]),\n",
       " 'random_effect_cov': array([1.31090572, 1.31074207, 1.31073961, 1.31066003, 1.31064788,\n",
       "        1.31067239, 1.31121199, 1.31151794, 1.31156867, 1.31162881]),\n",
       " 'response_mean': None,\n",
       " 'response_var': None}"
      ]
     },
     "execution_count": 12,
     "metadata": {},
     "output_type": "execute_result"
    }
   ],
   "source": [
    "preds"
   ]
  },
  {
   "cell_type": "code",
   "execution_count": null,
   "metadata": {},
   "outputs": [],
   "source": []
  }
 ],
 "metadata": {
  "kernelspec": {
   "display_name": "Python 3.8.5 ('base')",
   "language": "python",
   "name": "python3"
  },
  "language_info": {
   "codemirror_mode": {
    "name": "ipython",
    "version": 3
   },
   "file_extension": ".py",
   "mimetype": "text/x-python",
   "name": "python",
   "nbconvert_exporter": "python",
   "pygments_lexer": "ipython3",
   "version": "3.8.5"
  },
  "orig_nbformat": 4,
  "vscode": {
   "interpreter": {
    "hash": "a9864a2442aaf70dbf0f8ff3ec9b272f42bf5fc5292970a0bf08d7c00c550d74"
   }
  }
 },
 "nbformat": 4,
 "nbformat_minor": 2
}
