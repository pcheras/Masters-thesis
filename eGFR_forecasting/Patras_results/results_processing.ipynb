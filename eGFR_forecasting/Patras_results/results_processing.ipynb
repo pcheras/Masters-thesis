{
 "cells": [
  {
   "cell_type": "code",
   "execution_count": 14,
   "metadata": {},
   "outputs": [],
   "source": [
    "import numpy as np\n",
    "import pandas as pd\n",
    "\n",
    "site='patras'\n",
    "results = np.ones(shape=(8, 2, 5))\n",
    "\n",
    "for i in range(1, 6):\n",
    "    results[ : , : , i-1] = pd.read_csv(f'{site}_results_{i}.csv').iloc[: , 1:-1].values \n",
    "\n",
    "means , stds = np.mean(results, axis=-1) , np.std(results, axis=-1)\n",
    "final_results = pd.DataFrame(data=np.zeros_like(means), index=pd.read_csv(f'{site}_results_1.csv').iloc[: , 0].values, columns=[pd.read_csv(f'{site}_results_1.csv').iloc[: , 1:-1].columns.values])\n",
    "\n",
    "for i in range(means.shape[0]):\n",
    "    for j in range(means.shape[1]):\n",
    "        entry = f'{means[i,j]:.3f} +/- {stds[i,j]:.3f}'\n",
    "        final_results.iloc[i, j] = entry\n",
    "\n",
    "final_results.to_csv(f'{site}_final_results.csv')\n",
    "final_results"
   ]
  }
 ],
 "metadata": {
  "kernelspec": {
   "display_name": "Python 3.9.7",
   "language": "python",
   "name": "python3"
  },
  "language_info": {
   "codemirror_mode": {
    "name": "ipython",
    "version": 3
   },
   "file_extension": ".py",
   "mimetype": "text/x-python",
   "name": "python",
   "nbconvert_exporter": "python",
   "pygments_lexer": "ipython3",
   "version": "3.9.7"
  },
  "orig_nbformat": 4,
  "vscode": {
   "interpreter": {
    "hash": "49f5be25817e41b0e6e340562e4641912b3615b6f868a3492a46ee34ac3864de"
   }
  }
 },
 "nbformat": 4,
 "nbformat_minor": 2
}
