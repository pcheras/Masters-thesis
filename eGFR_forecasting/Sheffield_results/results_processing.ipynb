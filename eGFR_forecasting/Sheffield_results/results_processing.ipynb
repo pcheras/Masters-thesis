{
 "cells": [
  {
   "cell_type": "code",
   "execution_count": 1,
   "metadata": {},
   "outputs": [
    {
     "data": {
      "text/html": [
       "<div>\n",
       "<style scoped>\n",
       "    .dataframe tbody tr th:only-of-type {\n",
       "        vertical-align: middle;\n",
       "    }\n",
       "\n",
       "    .dataframe tbody tr th {\n",
       "        vertical-align: top;\n",
       "    }\n",
       "\n",
       "    .dataframe thead tr th {\n",
       "        text-align: left;\n",
       "    }\n",
       "</style>\n",
       "<table border=\"1\" class=\"dataframe\">\n",
       "  <thead>\n",
       "    <tr>\n",
       "      <th></th>\n",
       "      <th>RMSE_interpolation</th>\n",
       "      <th>RMSE_extrapolation</th>\n",
       "    </tr>\n",
       "  </thead>\n",
       "  <tbody>\n",
       "    <tr>\n",
       "      <th>Linear Mixed Effects Model with no fixed features (random intercept)</th>\n",
       "      <td>12.627 +/- 0.328</td>\n",
       "      <td>21.381 +/- 0.804</td>\n",
       "    </tr>\n",
       "    <tr>\n",
       "      <th>Linear Mixed Effects Model with Random Intercept</th>\n",
       "      <td>12.791 +/- 0.647</td>\n",
       "      <td>20.284 +/- 1.268</td>\n",
       "    </tr>\n",
       "    <tr>\n",
       "      <th>Linear Mixed Effects Model with Shared Gaussian Process</th>\n",
       "      <td>12.714 +/- 0.629</td>\n",
       "      <td>20.184 +/- 1.285</td>\n",
       "    </tr>\n",
       "    <tr>\n",
       "      <th>Linear Mixed Effects Model with Independent Gaussian Process</th>\n",
       "      <td>11.540 +/- 0.660</td>\n",
       "      <td>19.939 +/- 1.112</td>\n",
       "    </tr>\n",
       "    <tr>\n",
       "      <th>Gradient-boosted tree with group as categorical variable (no random effects)</th>\n",
       "      <td>14.135 +/- 0.526</td>\n",
       "      <td>16.189 +/- 1.111</td>\n",
       "    </tr>\n",
       "    <tr>\n",
       "      <th>GPBoost with Random Intercept</th>\n",
       "      <td>10.578 +/- 0.188</td>\n",
       "      <td>16.232 +/- 1.075</td>\n",
       "    </tr>\n",
       "    <tr>\n",
       "      <th>GPBoost with Shared Gaussian Process using Vecchia</th>\n",
       "      <td>14.064 +/- 0.351</td>\n",
       "      <td>16.891 +/- 0.868</td>\n",
       "    </tr>\n",
       "    <tr>\n",
       "      <th>GPBoost with Independent Gaussian Process</th>\n",
       "      <td>9.914 +/- 0.208</td>\n",
       "      <td>16.118 +/- 0.931</td>\n",
       "    </tr>\n",
       "  </tbody>\n",
       "</table>\n",
       "</div>"
      ],
      "text/plain": [
       "                                                   RMSE_interpolation  \\\n",
       "Linear Mixed Effects Model with no fixed featur...   12.627 +/- 0.328   \n",
       "Linear Mixed Effects Model with Random Intercept     12.791 +/- 0.647   \n",
       "Linear Mixed Effects Model with Shared Gaussian...   12.714 +/- 0.629   \n",
       "Linear Mixed Effects Model with Independent Gau...   11.540 +/- 0.660   \n",
       "Gradient-boosted tree with group as categorical...   14.135 +/- 0.526   \n",
       "GPBoost with Random Intercept                        10.578 +/- 0.188   \n",
       "GPBoost with Shared Gaussian Process using Vecchia   14.064 +/- 0.351   \n",
       "GPBoost with Independent Gaussian Process             9.914 +/- 0.208   \n",
       "\n",
       "                                                   RMSE_extrapolation  \n",
       "Linear Mixed Effects Model with no fixed featur...   21.381 +/- 0.804  \n",
       "Linear Mixed Effects Model with Random Intercept     20.284 +/- 1.268  \n",
       "Linear Mixed Effects Model with Shared Gaussian...   20.184 +/- 1.285  \n",
       "Linear Mixed Effects Model with Independent Gau...   19.939 +/- 1.112  \n",
       "Gradient-boosted tree with group as categorical...   16.189 +/- 1.111  \n",
       "GPBoost with Random Intercept                        16.232 +/- 1.075  \n",
       "GPBoost with Shared Gaussian Process using Vecchia   16.891 +/- 0.868  \n",
       "GPBoost with Independent Gaussian Process            16.118 +/- 0.931  "
      ]
     },
     "execution_count": 1,
     "metadata": {},
     "output_type": "execute_result"
    }
   ],
   "source": [
    "import numpy as np\n",
    "import pandas as pd\n",
    "\n",
    "site='sheffield'\n",
    "results = np.ones(shape=(8, 2, 5))\n",
    "\n",
    "for i in range(1, 6):\n",
    "    results[ : , : , i-1] = pd.read_csv(f'{site}_results_{i}.csv').iloc[: , 1:-1].values \n",
    "\n",
    "means , stds = np.mean(results, axis=-1) , np.std(results, axis=-1)\n",
    "final_results = pd.DataFrame(data=np.zeros_like(means), index=pd.read_csv(f'{site}_results_1.csv').iloc[: , 0].values, columns=[pd.read_csv(f'{site}_results_1.csv').iloc[: , 1:-1].columns.values])\n",
    "\n",
    "for i in range(means.shape[0]):\n",
    "    for j in range(means.shape[1]):\n",
    "        entry = f'{means[i,j]:.3f} +/- {stds[i,j]:.3f}'\n",
    "        final_results.iloc[i, j] = entry\n",
    "\n",
    "final_results.to_csv(f'{site}_final_results.csv')\n",
    "final_results"
   ]
  }
 ],
 "metadata": {
  "kernelspec": {
   "display_name": "Python 3.9.7",
   "language": "python",
   "name": "python3"
  },
  "language_info": {
   "codemirror_mode": {
    "name": "ipython",
    "version": 3
   },
   "file_extension": ".py",
   "mimetype": "text/x-python",
   "name": "python",
   "nbconvert_exporter": "python",
   "pygments_lexer": "ipython3",
   "version": "3.9.7"
  },
  "orig_nbformat": 4,
  "vscode": {
   "interpreter": {
    "hash": "49f5be25817e41b0e6e340562e4641912b3615b6f868a3492a46ee34ac3864de"
   }
  }
 },
 "nbformat": 4,
 "nbformat_minor": 2
}
